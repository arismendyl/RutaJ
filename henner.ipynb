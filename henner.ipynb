{
 "cells": [
  {
   "cell_type": "code",
   "execution_count": null,
   "metadata": {},
   "outputs": [],
   "source": [
    "def insert(dataframe):\n",
    "    list = dataframe.values.tolist()\n",
    "    data = [tuple(element) for element in list]\n",
    "\n",
    "    try:\n",
    "\n",
    "        connection = GetConn()\n",
    "        cursor = connection.cursor()\n",
    "        query = ('INSERT INTO CONT_CAMARAS(Interval_start,Interval_stop,Camera_serial_number,Counter_name,Pedestrians_coming_in,Pedestrians_going_out) '\n",
    "        'values(:Interval_start,:Interval_stop,:Camera_serial_number,:Counter_name,:Pedestrians_coming_in,:Pedestrians_going_out)')\n",
    "\n",
    "        cursor.executemany(query,data)\n",
    "        connection.commit()\n",
    "        \n",
    "    except:\n",
    "        print(sys.exc_info())    \n",
    "    finally:    \n",
    "        if cursor:\n",
    "            cursor.close()\n",
    "        if connection:\n",
    "            connection.close()\n"
   ]
  },
  {
   "cell_type": "code",
   "execution_count": 9,
   "metadata": {},
   "outputs": [],
   "source": [
    "import pandas as pd\n",
    "df = pd.read_parquet('run-AmazonS3_node3-3-part-block-0-0-r-00019-snappy.parquet')"
   ]
  },
  {
   "cell_type": "code",
   "execution_count": 10,
   "metadata": {},
   "outputs": [
    {
     "data": {
      "text/plain": [
       "Decimal('1781375.00')"
      ]
     },
     "execution_count": 10,
     "metadata": {},
     "output_type": "execute_result"
    }
   ],
   "source": [
    "df[\"id\"].max()"
   ]
  }
 ],
 "metadata": {
  "interpreter": {
   "hash": "fd0fbe8345a80b88723d48b154ca9b8cad4fa5e6b40f53d2296a4985dd64d462"
  },
  "kernelspec": {
   "display_name": "Python 3.9.7 ('base')",
   "language": "python",
   "name": "python3"
  },
  "language_info": {
   "codemirror_mode": {
    "name": "ipython",
    "version": 3
   },
   "file_extension": ".py",
   "mimetype": "text/x-python",
   "name": "python",
   "nbconvert_exporter": "python",
   "pygments_lexer": "ipython3",
   "version": "3.9.7"
  },
  "orig_nbformat": 4
 },
 "nbformat": 4,
 "nbformat_minor": 2
}
